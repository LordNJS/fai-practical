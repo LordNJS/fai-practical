{
  "nbformat": 4,
  "nbformat_minor": 0,
  "metadata": {
    "colab": {
      "provenance": [],
      "authorship_tag": "ABX9TyP39mU9pxkHAF2dyGrtlmyA",
      "include_colab_link": true
    },
    "kernelspec": {
      "name": "python3",
      "display_name": "Python 3"
    },
    "language_info": {
      "name": "python"
    }
  },
  "cells": [
    {
      "cell_type": "markdown",
      "metadata": {
        "id": "view-in-github",
        "colab_type": "text"
      },
      "source": [
        "<a href=\"https://colab.research.google.com/github/LordNJS/fai-practical/blob/main/Best_first_search.ipynb\" target=\"_parent\"><img src=\"https://colab.research.google.com/assets/colab-badge.svg\" alt=\"Open In Colab\"/></a>"
      ]
    },
    {
      "cell_type": "markdown",
      "source": [
        "Best First Search"
      ],
      "metadata": {
        "id": "jw2WRToPq5Xx"
      }
    },
    {
      "cell_type": "code",
      "execution_count": 1,
      "metadata": {
        "id": "l7CibtgBq3_e"
      },
      "outputs": [],
      "source": [
        "# count how many times the rules are broken\n",
        "class sudoku:\n",
        "  def heuristic(sudoku):\n",
        "    rule_broken = 0\n",
        "    for i in sudoku:\n",
        "      row = set(i)\n",
        "      for a in row:\n",
        "        rule_broken += i.count(a) - 1\n",
        "\n",
        "    sudoku_cols = []\n",
        "    for i in range(9):\n",
        "      col = []\n",
        "      for a in range(9):\n",
        "        col.append(sudoku[a][i])\n",
        "      sudoku_cols.append(col)\n",
        "\n",
        "    for i in sudoku_cols:\n",
        "      col = set(i)\n",
        "      for a in col:\n",
        "        rule_broken += i.count(a) - 1\n",
        "\n",
        "    sudoku_squares = []\n",
        "    squares = [[],[],[]]\n",
        "    for i in range(9):\n",
        "      for j in range(9):\n",
        "        squares[j//3].append(sudoku[i][j])\n",
        "      if i % 3 == 2:\n",
        "        sudoku_squares += squares\n",
        "        squares = [[],[],[]]\n",
        "\n",
        "    for i in sudoku_squares:\n",
        "      square = set(i)\n",
        "      for a in square:\n",
        "        rule_broken += i.count(a) - 1\n",
        "\n",
        "    return rule_broken"
      ]
    }
  ]
}