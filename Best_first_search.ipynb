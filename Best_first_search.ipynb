{
  "nbformat": 4,
  "nbformat_minor": 0,
  "metadata": {
    "colab": {
      "provenance": [],
      "authorship_tag": "ABX9TyN6qgFIHz3nYSWtGD4SKb6M",
      "include_colab_link": true
    },
    "kernelspec": {
      "name": "python3",
      "display_name": "Python 3"
    },
    "language_info": {
      "name": "python"
    }
  },
  "cells": [
    {
      "cell_type": "markdown",
      "metadata": {
        "id": "view-in-github",
        "colab_type": "text"
      },
      "source": [
        "<a href=\"https://colab.research.google.com/github/LordNJS/fai-practical/blob/main/Best_first_search.ipynb\" target=\"_parent\"><img src=\"https://colab.research.google.com/assets/colab-badge.svg\" alt=\"Open In Colab\"/></a>"
      ]
    },
    {
      "cell_type": "markdown",
      "source": [
        "Best First Search"
      ],
      "metadata": {
        "id": "jw2WRToPq5Xx"
      }
    },
    {
      "cell_type": "code",
      "execution_count": null,
      "metadata": {
        "colab": {
          "base_uri": "https://localhost:8080/",
          "height": 106
        },
        "id": "l7CibtgBq3_e",
        "outputId": "8c1968d1-42d7-405f-ad86-8218c7d8111e"
      },
      "outputs": [
        {
          "output_type": "error",
          "ename": "SyntaxError",
          "evalue": "incomplete input (ipython-input-2-4081248956.py, line 10)",
          "traceback": [
            "\u001b[0;36m  File \u001b[0;32m\"/tmp/ipython-input-2-4081248956.py\"\u001b[0;36m, line \u001b[0;32m10\u001b[0m\n\u001b[0;31m    for a in range(9):\u001b[0m\n\u001b[0m                      ^\u001b[0m\n\u001b[0;31mSyntaxError\u001b[0m\u001b[0;31m:\u001b[0m incomplete input\n"
          ]
        }
      ],
      "source": [
        "# count how many times the rules are broken\n",
        "def heuristic(sudoku):\n",
        "  rule_broken = 0\n",
        "  for i in sudoku:\n",
        "    row = set(i)\n",
        "    for a in row:\n",
        "      rule_broken += i.count(a) - 1\n",
        "\n",
        "  sudoku_cols = []\n",
        "  for i in range(9):\n",
        "    col = []\n",
        "    for a in range(9):\n",
        "      col.append(sudoku[a][i])\n",
        "    sudoku_cols.append(col)\n",
        "\n",
        "  for i in sudoku_cols:\n",
        "    col = set(i)\n",
        "    for a in col:\n",
        "      rule_broken += i.count(a) - 1\n",
        "\n",
        "  sudoku_squares = []\n",
        "  squares = [[],[],[]]\n",
        "  for i in range(9):\n",
        "    for j in range(9):\n",
        "      squares[j//3].append(sudoku[i][j])\n",
        "    if i % 3 == 2:\n",
        "      sudoku_squares += squares\n",
        "      squares = [[],[],[]]\n",
        "\n",
        "  for i in sudoku_squares:\n",
        "    square = set(i)\n",
        "    for a in square:\n",
        "      rule_broken += i.count(a) - 1\n",
        "\n",
        "  return rule_broken"
      ]
    }
  ]
}